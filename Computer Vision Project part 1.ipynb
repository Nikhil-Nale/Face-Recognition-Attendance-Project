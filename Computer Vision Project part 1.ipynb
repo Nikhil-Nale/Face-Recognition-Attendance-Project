{
 "cells": [
  {
   "cell_type": "markdown",
   "metadata": {},
   "source": [
    "## Face Recognition"
   ]
  },
  {
   "cell_type": "markdown",
   "metadata": {},
   "source": [
    "Computer Vision Project Idea – In a face recognition app, you not only detect if this is a face or not, you further recognize whose face is it.\n",
    "\n",
    "This is very useful in labeling people’s names and also authenticating using face.\n",
    "\n",
    "This project requires you to first feed data of the people you want to recognize and then you train the model that can recognize people."
   ]
  },
  {
   "cell_type": "code",
   "execution_count": 4,
   "metadata": {},
   "outputs": [
    {
     "name": "stdout",
     "output_type": "stream",
     "text": [
      "[True] [0.30110307]\n"
     ]
    }
   ],
   "source": [
    "import cv2\n",
    "import face_recognition\n",
    "\n",
    "imgMa = face_recognition.load_image_file(\"JACK MA.jpg\")\n",
    "imgMa = cv2.cvtColor(imgMa, cv2.COLOR_BGR2RGB)\n",
    "imgTest = face_recognition.load_image_file(\"JACK MA TEST.jpg\")\n",
    "imgTest = cv2.cvtColor(imgTest, cv2.COLOR_BGR2RGB)\n",
    "\n",
    "faceLoc = face_recognition.face_locations(imgMa)[0]\n",
    "# print(faceLoc)\n",
    "encodeMa = face_recognition.face_encodings(imgMa)[0]\n",
    "cv2.rectangle(imgMa, (faceLoc[3], faceLoc[0]), (faceLoc[1], faceLoc[2]), (255,0,255), 2)\n",
    "\n",
    "faceLocTest = face_recognition.face_locations(imgTest)[0]\n",
    "encodTest = face_recognition.face_encodings(imgTest)[0]\n",
    "cv2.rectangle(imgTest, (faceLocTest[3], faceLocTest[0]), (faceLocTest[1], faceLocTest[2]), (255,0,255), 2)\n",
    "\n",
    "result = face_recognition.compare_faces([encodeElon], encodTest)\n",
    "# print(result)\n",
    "faceDist = face_recognition.face_distance([encodeElon], encodTest)\n",
    "print(result, faceDist)\n",
    "cv2.putText(imgTest, f'{result} {round(faceDist[0], 2)}', (35,40), cv2.FONT_HERSHEY_COMPLEX, 1, (0,0,255), 2)\n",
    "\n",
    "\n",
    "\n",
    "\n",
    "cv2.imshow(\"MA image\", imgMa)\n",
    "cv2.imshow(\"MA Test image\", imgTest)\n",
    "\n",
    "cv2.waitKey(0)    \n",
    "cv2.destroyAllWindows()"
   ]
  },
  {
   "cell_type": "code",
   "execution_count": null,
   "metadata": {},
   "outputs": [],
   "source": []
  }
 ],
 "metadata": {
  "kernelspec": {
   "display_name": "Python 3",
   "language": "python",
   "name": "python3"
  },
  "language_info": {
   "codemirror_mode": {
    "name": "ipython",
    "version": 3
   },
   "file_extension": ".py",
   "mimetype": "text/x-python",
   "name": "python",
   "nbconvert_exporter": "python",
   "pygments_lexer": "ipython3",
   "version": "3.8.3"
  }
 },
 "nbformat": 4,
 "nbformat_minor": 4
}
